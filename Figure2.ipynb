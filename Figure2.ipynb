{
 "cells": [
  {
   "cell_type": "code",
   "execution_count": null,
   "id": "6932fe37",
   "metadata": {},
   "outputs": [],
   "source": [
    "import numpy as np \n",
    "import math\n",
    "import os\n",
    "import mne\n",
    "import matplotlib\n",
    "from tqdm.notebook import tqdm\n",
    "from scipy.stats import spearmanr\n",
    "from statsmodels.stats.multitest import multipletests\n",
    "import matplotlib as mpl\n",
    "import matplotlib.lines as mlines\n",
    "import glob\n",
    "import matplotlib.pyplot as plt\n",
    "import seaborn as sns\n",
    "import pandas as pd\n",
    "import scipy.stats as sp\n",
    "from mpl_toolkits.axes_grid1.inset_locator import inset_axes\n",
    "\n",
    "\n",
    "cmap = sns.color_palette(\"colorblind\")\n",
    "%run -i colorblind.py"
   ]
  },
  {
   "cell_type": "code",
   "execution_count": null,
   "id": "ad8ce7c9-5e79-4be6-b18b-f40cbd8db616",
   "metadata": {},
   "outputs": [],
   "source": [
    "cmap_new = rainbow_colors(12)\n",
    "fig, ax = plt.subplots(1,1,figsize=(3,1))\n",
    "for i, color in enumerate(cmap_new): \n",
    "    plt.scatter(i, 1, color=color)"
   ]
  },
  {
   "cell_type": "code",
   "execution_count": null,
   "id": "b2bedfb7",
   "metadata": {},
   "outputs": [],
   "source": [
    "def corr_datscan(crit, datscan, age): \n",
    "    rho = np.zeros((30, len(datscan)))\n",
    "    p = np.zeros_like(rho)\n",
    "\n",
    "    for i_dat, dat in enumerate(datscan): \n",
    "\n",
    "        # Check nan in datscan file\n",
    "        idx_dat = np.argwhere(np.isnan(datscan))\n",
    "        dats = np.delete(dat, idx_dat)\n",
    "        crit_dats = np.delete(crit, idx_dat, axis=0)\n",
    "        age_dats = np.delete(age, idx_dat, axis=0)\n",
    "        \n",
    "        # Spearman's correlation\n",
    "        for iF in range(30):\n",
    "            rho[iF, i_dat], p[iF, i_dat] = sp.spearmanr(crit_dats[:,iF], dats)\n",
    "        \n",
    "    # Benjiamini - Hochberg's correction\n",
    "    _, p_corrected, _, _ = multipletests(p.ravel(), method='fdr_bh')\n",
    "\n",
    "    p_corr = p_corrected.reshape([30,2])\n",
    "       \n",
    "    return rho, p, p_corr\n",
    "\n",
    "def corr_datscan_single_Ch(crit, datscan, age): \n",
    "    _, nF = crit.shape\n",
    "    rho = np.zeros((nF, len(datscan)))\n",
    "    p = np.zeros_like(rho)\n",
    "\n",
    "    for i_dat, dat in enumerate(datscan): \n",
    "\n",
    "        # Check nan in datscan file\n",
    "        idx_dat = np.argwhere(np.isnan(datscan))\n",
    "        dats = np.delete(dat, idx_dat)\n",
    "        crit_dats = np.delete(crit, idx_dat, axis=0)\n",
    "        age_dats = np.delete(age, idx_dat, axis=0)\n",
    "        \n",
    "        # Spearman's correlation\n",
    "        for iF in range(crit_dats.shape[1]):\n",
    "            rho[iF, i_dat], p[iF, i_dat] = sp.spearmanr(crit_dats[:,iF], dats, nan_policy='omit')\n",
    "        \n",
    "            \n",
    "    return rho, p\n",
    "\n",
    "\n",
    "def freq_band_extraction(data1, data2, freq_range):\n",
    "    data1 = data1[:,:,freq_range].mean(axis=2)\n",
    "    data2 = data2[:,:,freq_range].mean(axis=2)\n",
    "    data = np.concatenate([data1, data2])\n",
    "\n",
    "    return data\n",
    "\n",
    "def extract_fei_new(files):\n",
    "    \n",
    "    data, name_subjs, data_masked = list(), list(), list()\n",
    "    for ifile, file in enumerate(tqdm(files)):\n",
    "        \n",
    "        name_subjs.append(file.split('/')[9][:6])\n",
    "        \n",
    "        tmp = np.load(file, allow_pickle=True)\n",
    "\n",
    "        data.append(tmp[1]) \n",
    "        data_masked.append(np.nanmean(tmp[1,...],axis=0)) # Average channels without nan\n",
    "    \n",
    "    fEI_ch = np.array(data)\n",
    "    fEI_masked = np.array(data_masked)\n",
    "\n",
    "    return name_subjs, fEI_ch, fEI_masked\n",
    "\n"
   ]
  },
  {
   "cell_type": "markdown",
   "id": "a96248f7",
   "metadata": {},
   "source": [
    "#### Set input"
   ]
  },
  {
   "cell_type": "code",
   "execution_count": null,
   "id": "fed40ba7",
   "metadata": {},
   "outputs": [],
   "source": [
    "# Set folder data path and output path\n",
    "rbd_root = '.../RBD_root/'\n",
    "path_out = '.../Results/'\n",
    "\n",
    "lut_filename = 'lut.xlsx'\n",
    "\n",
    "# Set frequency limits\n",
    "f_min = 2\n",
    "f_max = 90\n",
    "scale_freq='log'\n"
   ]
  },
  {
   "cell_type": "markdown",
   "id": "87d5f753",
   "metadata": {},
   "source": [
    "#### Extract dopamine and fEI information"
   ]
  },
  {
   "cell_type": "code",
   "execution_count": null,
   "id": "10432757",
   "metadata": {},
   "outputs": [],
   "source": [
    "# Import LOOK UP TABLE - RBD \n",
    "lut_rbd = pd.read_excel(rbd_root + lut_filename).set_index('ID')"
   ]
  },
  {
   "cell_type": "code",
   "execution_count": null,
   "id": "2170505c",
   "metadata": {},
   "outputs": [],
   "source": [
    "# Extract age\n",
    "age_r1 = lut_rbd.loc[(lut_rbd['REC']=='B')]['AGE to the acquisition'].to_numpy()\n",
    "age_r2 = lut_rbd.loc[(lut_rbd['REC']=='FU1')]['AGE to the acquisition'].to_numpy()\n",
    "age = np.concatenate((age_r1,age_r2))"
   ]
  },
  {
   "cell_type": "code",
   "execution_count": null,
   "id": "6bcdbf77",
   "metadata": {},
   "outputs": [],
   "source": [
    "# Extract information about conveterted and not converted patients\n",
    "name_lateRBD_r1 = lut_rbd.loc[(~lut_rbd['CONVERSION TO '].isnull()) & (lut_rbd['REC'] == 'B') & (lut_rbd['CONV (0=non, 1=late, 2=early)'] == 1) ].index.to_list()\n",
    "name_lateRBD_r1 = [i.split('_', 1)[0] for i in name_lateRBD_r1]\n",
    "name_lateRBD_r2 = lut_rbd.loc[(~lut_rbd['CONVERSION TO '].isnull()) & (lut_rbd['REC'] == 'FU1') & (lut_rbd['CONV (0=non, 1=late, 2=early)'] == 1)  ].index.to_list()\n",
    "name_lateRBD_r2 = [i.split('_', 1)[0] for i in name_lateRBD_r2]\n",
    "\n",
    "name_earlyRBD_r1 = lut_rbd.loc[(~lut_rbd['CONVERSION TO '].isnull()) & (lut_rbd['REC'] == 'B') & (lut_rbd['CONV (0=non, 1=late, 2=early)'] == 2) ].index.to_list()\n",
    "name_earlyRBD_r1 = [i.split('_', 1)[0] for i in name_earlyRBD_r1]\n",
    "name_earlyRBD_r2 = lut_rbd.loc[(~lut_rbd['CONVERSION TO '].isnull()) & (lut_rbd['REC'] == 'FU1') & (lut_rbd['CONV (0=non, 1=late, 2=early)'] == 2) ].index.to_list()\n",
    "name_earlyRBD_r2 = [i.split('_', 1)[0] for i in name_earlyRBD_r2]\n",
    "\n",
    "name_sRBD_r1 = lut_rbd.loc[(lut_rbd['CONVERSION TO '].isnull()) & (lut_rbd['REC'] == 'B') & (lut_rbd['CONV (0=non, 1=late, 2=early)'] == 0)].index.to_list()\n",
    "name_sRBD_r1 = [i.split('_', 1)[0] for i in name_sRBD_r1]\n",
    "name_sRBD_r2 = lut_rbd.loc[(lut_rbd['CONVERSION TO '].isnull()) & (lut_rbd['REC'] == 'FU1') & (lut_rbd['REC'] == 'B') & (lut_rbd['CONV (0=non, 1=late, 2=early)'] == 0)].index.to_list()\n",
    "name_sRBD_r2 = [i.split('_', 1)[0] for i in name_sRBD_r2]"
   ]
  },
  {
   "cell_type": "code",
   "execution_count": null,
   "id": "91c23ad5",
   "metadata": {},
   "outputs": [],
   "source": [
    "# Extract information about dopamine levels \n",
    "caudL_r1 = lut_rbd['Caudate left'].loc[lut_rbd['REC']=='B'].to_numpy()\n",
    "caudR_r1 = lut_rbd['Caudate right'].loc[lut_rbd['REC']=='B'].to_numpy()\n",
    "\n",
    "putL_r1 = lut_rbd['Putamen left'].loc[lut_rbd['REC']=='B'].to_numpy()\n",
    "putR_r1 = lut_rbd['Putamen right'].loc[lut_rbd['REC']=='B'].to_numpy()\n",
    "\n",
    "dat_r1 = [(putL_r1 + putR_r1)/2, (caudL_r1 + caudR_r1)/2]\n",
    "\n",
    "caudL_r2 = lut_rbd['Caudate left'].loc[lut_rbd['REC']=='FU1'].to_numpy()\n",
    "caudR_r2 = lut_rbd['Caudate right'].loc[lut_rbd['REC']=='FU1'].to_numpy()\n",
    "\n",
    "putL_r2 = lut_rbd['Putamen left'].loc[lut_rbd['REC']=='FU1'].to_numpy()\n",
    "putR_r2 = lut_rbd['Putamen right'].loc[lut_rbd['REC']=='FU1'].to_numpy()\n",
    "\n",
    "dat_r2 = [(putL_r2 + putR_r2)/2, (caudL_r2 + caudR_r2)/2]\n",
    "\n",
    "datscan = np.hstack((dat_r1, dat_r2))"
   ]
  },
  {
   "cell_type": "code",
   "execution_count": null,
   "id": "6bda4086",
   "metadata": {},
   "outputs": [],
   "source": [
    "# MMSE\n",
    "id_r1 = lut_rbd.loc[(lut_rbd['REC'] == 'B')].index\n",
    "mmse_r1 = lut_rbd.loc[id_r1, 'MMSE'].to_numpy()\n",
    "\n",
    "id_r2 = lut_rbd.loc[(lut_rbd['REC'] == 'FU1')].index\n",
    "mmse_r2 = lut_rbd.loc[id_r2, 'MMSE'].to_numpy()\n",
    "\n",
    "mmse = np.concatenate((mmse_r1, mmse_r2))\n",
    "\n",
    "# UPDRS-III\n",
    "id_r1 = lut_rbd.loc[(lut_rbd['REC'] == 'B')].index\n",
    "updrs_r1 = lut_rbd.loc[id_r1, 'UPDRS-III'].to_numpy()\n",
    "\n",
    "id_r2 = lut_rbd.loc[(lut_rbd['REC'] == 'FU1')].index\n",
    "updrs_r2 = lut_rbd.loc[id_r2, 'UPDRS-III'].to_numpy()\n",
    "\n",
    "updrs = np.concatenate((updrs_r1, updrs_r2))"
   ]
  },
  {
   "cell_type": "code",
   "execution_count": null,
   "id": "40d53470",
   "metadata": {},
   "outputs": [],
   "source": [
    "# Extract fEI\n",
    "\n",
    "name_subj_r1, fei_ch_r1, fei_r1 = extract_fei_new(sorted(glob.glob(os.path.join(rbd_root + 'fei/run-01/','*fei06*'))))\n",
    "name_subj_r2, fei_ch_r2, fei_r2 = extract_fei_new(sorted(glob.glob(os.path.join(rbd_root + 'fei/run-02/','*fei06*'))))"
   ]
  },
  {
   "cell_type": "code",
   "execution_count": null,
   "id": "566a5c69",
   "metadata": {},
   "outputs": [],
   "source": [
    "# Set frequency axis\n",
    "freq_vals, _ = create_frequency_axis(f_min=f_min, f_max=f_max, scale_freq =scale_freq)"
   ]
  },
  {
   "cell_type": "code",
   "execution_count": null,
   "id": "da7959bc",
   "metadata": {},
   "outputs": [],
   "source": [
    "freq_vals = freq_vals[:30]\n",
    "fei_r1 = fei_r1[:,:30]\n",
    "fei_r2 = fei_r2[:,:30]\n",
    "fei = np.concatenate((fei_r1,fei_r2))"
   ]
  },
  {
   "cell_type": "code",
   "execution_count": null,
   "id": "4a73f205",
   "metadata": {},
   "outputs": [],
   "source": [
    "# fEI in specific frequency band\n",
    "\n",
    "fei_ch_r1_f = fei_ch_r1[..., 7:10].mean(axis=2)\n",
    "fei_ch_r2_f = fei_ch_r2[..., 7:10].mean(axis=2)\n",
    "\n",
    "fei_ch_f = np.concatenate((fei_ch_r1_f, fei_ch_r2_f))\n"
   ]
  },
  {
   "cell_type": "markdown",
   "id": "7d883995",
   "metadata": {},
   "source": [
    "#### Channel File"
   ]
  },
  {
   "cell_type": "code",
   "execution_count": null,
   "id": "1153d874",
   "metadata": {},
   "outputs": [],
   "source": [
    "# Channel positions and names\n",
    "subj_file = '.../sub-01_task-rest_run-01_laplacian_eeg-raw.fif'\n",
    "raw = mne.io.read_raw_fif(subj_file, preload=True, verbose=False)\n",
    "\n",
    "info_pos = raw.info\n",
    "ch_names = info_pos['ch_names'][:-2] # remove no-EEG channels"
   ]
  },
  {
   "cell_type": "code",
   "execution_count": null,
   "id": "bfa8e6f2",
   "metadata": {},
   "outputs": [],
   "source": [
    "fei_ch = np.concatenate((fei_ch_r1[...,:30],fei_ch_r2[...,:30]))"
   ]
  },
  {
   "cell_type": "markdown",
   "id": "7fd5dee2",
   "metadata": {},
   "source": [
    "#### Correlation dopamine levels vs fEI"
   ]
  },
  {
   "cell_type": "code",
   "execution_count": null,
   "id": "32d44e04",
   "metadata": {},
   "outputs": [],
   "source": [
    "rho_fei, p_fei, p_fei_corrected = corr_datscan(fei, datscan, age)"
   ]
  },
  {
   "cell_type": "markdown",
   "id": "3972781f",
   "metadata": {},
   "source": [
    "#### Correlation across frequency"
   ]
  },
  {
   "cell_type": "code",
   "execution_count": null,
   "id": "53d2f00b",
   "metadata": {},
   "outputs": [],
   "source": [
    "cc_fei_f, p_fei_f = spearmanr(fei, nan_policy='omit', alternative='two-sided')"
   ]
  },
  {
   "cell_type": "code",
   "execution_count": null,
   "id": "3efaf25e",
   "metadata": {},
   "outputs": [],
   "source": [
    "rho_fei_theta, p_fei_theta = spearmanr(fei[:,7:10].mean(axis=1), datscan[0,:], nan_policy='omit', alternative='two-sided')"
   ]
  },
  {
   "cell_type": "markdown",
   "id": "30a3d943",
   "metadata": {},
   "source": [
    "#### Correlation with clinical scores"
   ]
  },
  {
   "cell_type": "code",
   "execution_count": null,
   "id": "ce85ade5",
   "metadata": {},
   "outputs": [],
   "source": [
    "#Correlazione fEI vs updrs-iii\n",
    "from scipy.stats import kendalltau\n",
    "rho_updrs = np.zeros((len(freq_vals),))\n",
    "p_updrs = np.zeros_like(rho_updrs)\n",
    "\n",
    "for i, iF in enumerate(freq_vals): \n",
    "    \n",
    "    rho_updrs[i], p_updrs[i] = kendalltau(fei[:,i], updrs, nan_policy='omit')\n",
    "    \n",
    "_, p_corrected_updrs, _, _ = multipletests(p_updrs, method='fdr_bh')\n",
    "\n",
    "#Correlazione fEI vs mmse\n",
    "rho_mmse = np.zeros((len(freq_vals),))\n",
    "p_mmse = np.zeros_like(rho_mmse)\n",
    "\n",
    "for i, iF in enumerate(freq_vals): \n",
    "    \n",
    "    rho_mmse[i], p_mmse[i] = kendalltau(fei[:,i], mmse, nan_policy='omit')\n",
    "    \n",
    "_, p_corrected_mmse, _, _ = multipletests(p_mmse, method='fdr_bh')"
   ]
  },
  {
   "cell_type": "markdown",
   "id": "c38c81c9",
   "metadata": {},
   "source": [
    "#### Correlation single channels - all frequencies"
   ]
  },
  {
   "cell_type": "code",
   "execution_count": null,
   "id": "a2e78442",
   "metadata": {},
   "outputs": [],
   "source": [
    "_, nCh, nF = fei_ch.shape\n",
    "rho_fei_ch = np.zeros((nCh, nF, 2)); p_fei_ch = np.zeros((nCh, nF, 2));\n",
    "\n",
    "# Spearman Correlation\n",
    "for iCh in range(nCh):\n",
    "    rho_fei_ch[iCh,:,:], p_fei_ch[iCh,:,:] = corr_datscan_single_Ch(fei_ch[:,iCh,:], datscan,age)\n",
    "\n",
    "# Benjiamini - Hochberg's correction\n",
    "_,  p_fei_ch_corrected, _, _ = multipletests(p_fei_ch.ravel(), method='fdr_bh')\n",
    "p_fei_ch_corrected = p_fei_ch_corrected.reshape([60,30,2])"
   ]
  },
  {
   "cell_type": "markdown",
   "id": "f295e8be",
   "metadata": {},
   "source": [
    "#### Correlation single channels - band frequencies"
   ]
  },
  {
   "cell_type": "code",
   "execution_count": null,
   "id": "d63f358b",
   "metadata": {},
   "outputs": [],
   "source": [
    "# Spearman Correlation\n",
    "rho_fei_ch_f = np.zeros((nCh, 2))\n",
    "p_fei_ch_f = np.zeros_like(rho_fei_ch_f)\n",
    "\n",
    "for iCh in range(nCh):\n",
    "    rho_fei_ch_f[iCh,:], p_fei_ch_f[iCh,:] = corr_datscan_single_Ch(fei_ch_f[:,iCh][np.newaxis].T, datscan, age)\n",
    "    \n",
    "# Benjiamini - Hochberg's correction\n",
    "_,  p_fei_ch_f_corrected, _, _ = multipletests(p_fei_ch_f.ravel(), method='fdr_bh')\n",
    "p_fei_ch_f_corrected = p_fei_ch_f_corrected.reshape([nCh,2])"
   ]
  },
  {
   "cell_type": "markdown",
   "id": "9f2847ac",
   "metadata": {},
   "source": [
    "#### Index converted - not converted"
   ]
  },
  {
   "cell_type": "code",
   "execution_count": null,
   "id": "254af3ec",
   "metadata": {},
   "outputs": [],
   "source": [
    "idx_r1_lateRBD = [name_subj_r1.index(x) for x in name_lateRBD_r1 if x in name_subj_r1]\n",
    "idx_r2_lateRBD = [name_subj_r2.index(x) for x in name_lateRBD_r2 if x in name_subj_r2]\n",
    "\n",
    "idx_r1_earlyRBD = [name_subj_r1.index(x) for x in name_earlyRBD_r2 if x in name_subj_r1]\n",
    "idx_r2_earlyRBD = [name_subj_r2.index(x) for x in name_earlyRBD_r2 if x in name_subj_r2]\n",
    "\n",
    "idx_r1_sRBD = [name_subj_r1.index(x) for x in name_sRBD_r1 if x in name_subj_r1]\n",
    "idx_r2_sRBD = [name_subj_r2.index(x) for x in name_sRBD_r2 if x in name_subj_r2]"
   ]
  },
  {
   "cell_type": "markdown",
   "id": "9d53115d",
   "metadata": {},
   "source": [
    "#### Figure 2"
   ]
  },
  {
   "cell_type": "code",
   "execution_count": null,
   "id": "5976890f",
   "metadata": {},
   "outputs": [],
   "source": [
    "# Set input for plot\n",
    "column = ['Putamen', 'Caudate']\n",
    "colors = [cmap[6], cmap[9]]\n",
    "i = [0.02, -0.02]"
   ]
  },
  {
   "cell_type": "code",
   "execution_count": null,
   "id": "0384c8c3",
   "metadata": {},
   "outputs": [],
   "source": [
    "# Create legend\n",
    "handles = list()\n",
    "handles.append(mlines.Line2D([], [], color=cmap[6], label='Putamen'))\n",
    "handles.append(mlines.Line2D([], [], color=cmap[9], label='Caudate'))\n",
    "\n",
    "handles.append(mlines.Line2D([], [], color='black', marker='o', linestyle='none',\n",
    "                        markersize=10, label='pvalue < 0.05',markerfacecolor='none'))\n",
    "\n",
    "handles.append(mlines.Line2D([], [], color='black', marker='o', linestyle='none',\n",
    "                        markersize=10, label='pvalue corrected < 0.05'))"
   ]
  },
  {
   "cell_type": "code",
   "execution_count": null,
   "id": "48aa3113",
   "metadata": {},
   "outputs": [],
   "source": [
    "import seaborn as sns\n",
    "import pandas as pd\n",
    "\n",
    "\n",
    "fig = plt.figure(figsize=(17.6/2.54,8/2.54), layout='constrained')\n",
    "\n",
    "# Panel description\n",
    "panel = fig.subfigures(2, 1)\n",
    "\n",
    "# Figure top\n",
    "figs_top = panel[0].subfigures(1, 2)\n",
    "\n",
    "ax1 = figs_top[0].subplots(1,1)\n",
    "\n",
    "m_size=6\n",
    "l_size=8\n",
    "a_size=6\n",
    "\n",
    "# Correlation fEI vs dop.levels\n",
    "for i_col, name_col in enumerate(column): \n",
    "    ax1.semilogx(freq_vals, rho_fei[:,i_col], label=column[i_col], color=colors[i_col]);\n",
    "    for iF, nF in enumerate(freq_vals):\n",
    "        if p_fei[iF, i_col] < 0.05: \n",
    "            ax1.scatter(nF, 0.25+i[i_col], marker='o', s=m_size,  \n",
    "                        facecolors='none', edgecolors=colors[i_col])\n",
    "        if p_fei_corrected[iF, i_col] < 0.05: \n",
    "            ax1.scatter(nF, 0.25+i[i_col], facecolors=colors[i_col],\n",
    "                        edgecolors=colors[i_col], marker='o', s=m_size)\n",
    "\n",
    "ax1.tick_params(labelsize=a_size)\n",
    "ax1.set_ylim([-.5, .3])\n",
    "#ax1.set_xticks([2,5,10,20,50,70], [2,5,10,20,50,70])\n",
    "ax1.set_ylabel('CC - fEI vs SBR', fontsize=l_size)\n",
    "ax1.set_xlabel('Frequencies [Hz]', fontsize=l_size)\n",
    "legend = ax1.legend(loc='upper left', fontsize=a_size)\n",
    "legend.get_frame().set_edgecolor('none')\n",
    "legend.get_frame().set_facecolor('none')\n",
    "\n",
    "\n",
    "\n",
    "# Scatter plot\n",
    "ax2 = figs_top[1].subplots(1,1)\n",
    "#ax2.axvline(x=0.87, color='black', linestyle='--', linewidth=2)\n",
    "\n",
    "df = pd.DataFrame({'fEI (5-7)Hz':fei[:,7:10].mean(axis=1),\n",
    "                   'Putamen':datscan[0]})\n",
    "sns.regplot(x='fEI (5-7)Hz', y='Putamen', data=df, fit_reg=True, ci=95, n_boot=1000, \n",
    "           scatter_kws={'color':'white', 's':m_size}, line_kws={'color': cmap[7]}, ax=ax2)\n",
    "\n",
    "\n",
    "# sRBD\n",
    "ax2.scatter(fei_r1[idx_r1_sRBD,8:11].mean(axis=1), \n",
    "            dat_r1[0][idx_r1_sRBD], marker='o', color=cmap_new[5], \n",
    "            label='non-converters', s=m_size)\n",
    "ax2.scatter(fei_r2[idx_r2_sRBD,8:11].mean(axis=1), \n",
    "            dat_r2[0][idx_r2_sRBD], marker='o', color=cmap_new[5], s=m_size)\n",
    "\n",
    "# late RBD \n",
    "ax2.scatter(fei_r1[idx_r1_lateRBD,8:11].mean(axis=1), \n",
    "            dat_r1[0][idx_r1_lateRBD], marker='^', \n",
    "            color=cmap_new[9], label='late-converters', s=m_size) \n",
    "ax2.scatter(fei_r2[idx_r2_lateRBD,8:11].mean(axis=1), \n",
    "            dat_r2[0][idx_r2_lateRBD], marker='^', \n",
    "            color=cmap_new[9], s=m_size) \n",
    "\n",
    "# early RBD\n",
    "ax2.scatter(fei_r1[idx_r1_earlyRBD,8:11].mean(axis=1), \n",
    "            dat_r1[0][idx_r1_earlyRBD], marker='X', color=cmap_new[11], \n",
    "            label='early-converters', s=m_size)\n",
    "ax2.scatter(fei_r2[idx_r2_earlyRBD,8:11].mean(axis=1), \n",
    "            dat_r2[0][idx_r2_earlyRBD], marker='X', color=cmap_new[11], \n",
    "            s=m_size) \n",
    "\n",
    "ax2.tick_params(labelsize=a_size)\n",
    "ax2.set_ylabel('SBR - Putamen', fontsize=l_size)\n",
    "ax2.set_xlabel('fEI (5-7Hz)', fontsize=l_size)\n",
    "\n",
    "legend = ax2.legend(loc='lower left', fontsize=a_size);\n",
    "legend.get_frame().set_facecolor('none')\n",
    "legend.get_frame().set_edgecolor('none')\n",
    "\n",
    "\n",
    "figs_bottom = panel[1].subfigures(1, 2)\n",
    "\n",
    "ax3 = figs_bottom[0].subplots(1,1)\n",
    "\n",
    "# Correlation fEI vs clinical score\n",
    "ax3.semilogx(freq_vals, rho_mmse, label='MMSE', color=cmap[5]);\n",
    "ax3.semilogx(freq_vals, rho_updrs, label='MDS-UPDRS-III', color=cmap[7]);\n",
    "\n",
    "for iF, nF in enumerate(freq_vals):\n",
    "    if p_mmse[iF] < 0.05: \n",
    "        ax3.scatter(nF, 0.25, marker='o', \n",
    "                    facecolors='none', edgecolors=cmap[5], s=m_size)\n",
    "    if p_corrected_mmse[iF] < 0.05: \n",
    "        ax3.scatter(nF, 0.25, facecolors=cmap[5],\n",
    "                    edgecolors=colors[0], marker='o', s=m_size)\n",
    "        \n",
    "for iF, nF in enumerate(freq_vals):\n",
    "    if p_updrs[iF] < 0.05: \n",
    "        ax3.scatter(nF, 0.27, marker='o', \n",
    "                    facecolors='none', edgecolors=cmap[7], s=m_size)\n",
    "    if p_corrected_updrs[iF] < 0.05: \n",
    "        ax3.scatter(nF, 0.27, facecolors=cmap[7],\n",
    "                    edgecolors=cmap[7], marker='o', s=m_size)\n",
    "\n",
    "ax3.tick_params(labelsize=a_size)\n",
    "ax3.set_ylim([-.2, .3])\n",
    "#ax3.set_xticks([2,5,10,20,50,70], [2,5,10,20,50,70])\n",
    "ax3.set_ylabel('CC - fEI vs clinical scores', fontsize=l_size)\n",
    "ax3.set_xlabel('Frequencies [Hz]', fontsize=l_size)\n",
    "legend = ax3.legend(loc='upper left', fontsize=a_size)\n",
    "legend.get_frame().set_edgecolor('none')\n",
    "legend.get_frame().set_facecolor('none')\n",
    "\n",
    "ax4 = figs_bottom[1].subplots(1,2, gridspec_kw={'width_ratios': [.9, .1]})\n",
    "\n",
    "\n",
    "# Topographies\n",
    "_, j_range = p_fei_ch_f_corrected.shape\n",
    "\n",
    "#for j in range(j_range):\n",
    "mask = p_fei_ch_f_corrected[:,0] < 0.05\n",
    "im, _ = mne.viz.plot_topomap(rho_fei_ch_f[:,0], info_pos, \n",
    "                                  axes=ax4[0], show=False, \n",
    "                                  cmap=plt.get_cmap('colorblind_diverging'), vlim=(-.4,.4),\n",
    "                                  ch_type='eeg', mask=mask, \n",
    "                                  mask_params=dict(markersize=m_size, markeredgecolor='k',markerfacecolor='w'));\n",
    "    \n",
    "\n",
    "\n",
    "norm = mpl.colors.Normalize(vmin=-.4, vmax=.4)\n",
    "cb1 = mpl.colorbar.ColorbarBase(ax=ax4[1], cmap=plt.get_cmap('colorblind_diverging'),norm=norm,\n",
    "                                orientation='vertical')\n",
    "\n",
    "cb1.ax.tick_params(labelsize=a_size); \n",
    "cb1.ax.set_yticks([-.4, -.2,0,.2, .4]); \n",
    "cb1.set_label('CC', fontsize=a_size)\n",
    "\n",
    "ax1.set_xticks([2,5,10,20,50,70], [2,5,10,20,50,70], fontsize=a_size)\n",
    "ax3.set_xticks([2,5,10,20,50,70], [2,5,10,20,50,70], fontsize=a_size)\n",
    "\n",
    "\n",
    "ax1.spines['top'].set_visible(False)\n",
    "ax1.spines['right'].set_visible(False)\n",
    "ax2.spines['top'].set_visible(False)\n",
    "ax2.spines['right'].set_visible(False)\n",
    "ax3.spines['top'].set_visible(False)\n",
    "ax3.spines['right'].set_visible(False)\n",
    "\n",
    "#plt.subplots_adjust(left=.05, bottom=.15, right=None, top=None, wspace=None, hspace=None)\n",
    "\n",
    "plt.savefig(path_out + 'Crit_F3.svg', dpi=600, bbox_inches = \"tight\")\n",
    "plt.savefig(path_out + 'Crit_F3.png', dpi=300, bbox_inches = \"tight\")"
   ]
  },
  {
   "cell_type": "code",
   "execution_count": null,
   "id": "e01364d1",
   "metadata": {},
   "outputs": [],
   "source": [
    "import pandas as pd"
   ]
  },
  {
   "cell_type": "code",
   "execution_count": null,
   "id": "dde031ab-ffce-4fe9-8011-92763deb9d34",
   "metadata": {},
   "outputs": [],
   "source": [
    "df = pd.DataFrame()\n",
    "df['Frequencies [Hz]'] = freq_vals\n",
    "df['$\\rho$ (DaT putamen vs fEI)'] = rho_fei[:,0]\n",
    "df['$\\rho$ (DaT caudate vs fEI)'] = rho_fei[:,1]\n",
    "df['$\\it{p}$ (DaT putamen vs fEI)'] = p_fei[:,0]\n",
    "df['$\\it{p}$ (DaT caudate vs fEI)'] = p_fei[:,1]\n",
    "df['$\\it{p}$ corrected (DaT putamen vs fEI)'] = p_fei_corrected[:,0]\n",
    "df['$\\it{p}$ corrected (DaT caudate vs fEI)'] = p_fei_corrected[:,1]\n",
    "\n",
    "df1 = pd.DataFrame()\n",
    "df1['Frequencies [Hz]'] = freq_vals\n",
    "df1['$\\rho$ (MMSE vs fEI)'] = rho_mmse\n",
    "df1['$\\it{p}$ (MMSE vs fEI)'] = p_mmse\n",
    "df1['$\\it{p}$ corrected (MMSE vs fEI)'] = p_corrected_mmse\n",
    "df1['$\\rho$ (MDS-UPDRS-III vs fEI)'] = rho_updrs\n",
    "df1['$\\it{p}$ (MDS-UPDRS-III vs fEI)'] = p_updrs\n",
    "df1['$\\it{p}$ corrected (MDS-UPDRS-III vs fEI)'] = p_corrected_updrs\n",
    "\n",
    "df_topo = pd.DataFrame()\n",
    "df_topo['$\\rho$ (DaT putamen vs fEI [5-7 Hz])'] = rho_fei_ch_f[:,0]\n",
    "df_topo['$\\it{p}$ (DaT putamen vs fEI [5-7 Hz])'] = p_fei_ch_f[:,0]\n",
    "df_topo['$\\it{p}$ corrected (DaT putamen vs fEI [5-7 Hz])'] = p_fei_ch_f_corrected[:,0]\n",
    "\n",
    "with pd.ExcelWriter('SupplementaryTables_F4.xlsx') as writer:\n",
    "    df.set_index('Frequencies [Hz]').to_excel(writer, sheet_name='Figure4A')\n",
    "    df1.set_index('Frequencies [Hz]').to_excel(writer, sheet_name='Figure4C')\n",
    "    df_topo.to_excel(writer, sheet_name='Figure4D')"
   ]
  }
 ],
 "metadata": {
  "kernelspec": {
   "display_name": "Python 3.11.5 64-bit ('myenv': conda)",
   "language": "python",
   "name": "python311564bitmyenvconda985f8bbe3462441ba78a9ea055d0e3c5"
  },
  "language_info": {
   "codemirror_mode": {
    "name": "ipython",
    "version": 3
   },
   "file_extension": ".py",
   "mimetype": "text/x-python",
   "name": "python",
   "nbconvert_exporter": "python",
   "pygments_lexer": "ipython3",
   "version": "3.11.5"
  }
 },
 "nbformat": 4,
 "nbformat_minor": 5
}
